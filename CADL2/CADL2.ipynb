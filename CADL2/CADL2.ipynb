{
  "nbformat": 4,
  "nbformat_minor": 0,
  "metadata": {
    "colab": {
      "provenance": []
    },
    "kernelspec": {
      "name": "python3",
      "display_name": "Python 3"
    },
    "language_info": {
      "name": "python"
    }
  },
  "cells": [
    {
      "cell_type": "code",
      "execution_count": 1,
      "metadata": {
        "colab": {
          "base_uri": "https://localhost:8080/"
        },
        "id": "52QVBjLT_Hxc",
        "outputId": "6b93a55e-6658-47f4-83ad-109aad137ae7"
      },
      "outputs": [
        {
          "output_type": "stream",
          "name": "stdout",
          "text": [
            "🔹 Bag of Words Representation\n",
            "['absolutely' 'amazing' 'and' 'delicious' 'food' 'fresh' 'hated' 'it'\n",
            " 'loved' 'noisy' 'pasta' 'restaurant' 'service' 'slow' 'the' 'too'\n",
            " 'uncomfortable' 'very' 'was']\n",
            "[[1 0 1 1 1 1 0 0 0 0 0 0 0 0 1 0 0 0 1]\n",
            " [0 0 0 0 0 0 1 1 0 0 0 0 1 1 1 0 0 1 1]\n",
            " [0 1 0 0 0 0 0 1 1 0 1 0 0 0 1 0 0 0 1]\n",
            " [0 0 1 0 0 0 0 0 0 1 0 1 0 0 1 1 1 0 1]]\n",
            "\n",
            "🔹 TF-IDF Representation\n",
            "['absolutely' 'amazing' 'and' 'delicious' 'food' 'fresh' 'hated' 'it'\n",
            " 'loved' 'noisy' 'pasta' 'restaurant' 'service' 'slow' 'the' 'too'\n",
            " 'uncomfortable' 'very' 'was']\n",
            "[[0.43995995 0.         0.34686948 0.43995995 0.43995995 0.43995995\n",
            "  0.         0.         0.         0.         0.         0.\n",
            "  0.         0.         0.22958935 0.         0.         0.\n",
            "  0.22958935]\n",
            " [0.         0.         0.         0.         0.         0.\n",
            "  0.43995995 0.34686948 0.         0.         0.         0.\n",
            "  0.43995995 0.43995995 0.22958935 0.         0.         0.43995995\n",
            "  0.22958935]\n",
            " [0.         0.48992364 0.         0.         0.         0.\n",
            "  0.         0.38626142 0.48992364 0.         0.48992364 0.\n",
            "  0.         0.         0.25566248 0.         0.         0.\n",
            "  0.25566248]\n",
            " [0.         0.         0.34686948 0.         0.         0.\n",
            "  0.         0.         0.         0.43995995 0.         0.43995995\n",
            "  0.         0.         0.22958935 0.43995995 0.43995995 0.\n",
            "  0.22958935]]\n"
          ]
        }
      ],
      "source": [
        "# CADL2: Feature Extraction\n",
        "from sklearn.feature_extraction.text import CountVectorizer, TfidfVectorizer\n",
        "\n",
        "# Dataset (restaurant reviews)\n",
        "reviews = [\n",
        "    \"The food was absolutely delicious and fresh.\",\n",
        "    \"I hated the service, it was very slow.\",\n",
        "    \"The pasta was amazing, I loved it!\",\n",
        "    \"The restaurant was too noisy and uncomfortable.\"\n",
        "]\n",
        "\n",
        "# --- Bag of Words ---\n",
        "print(\"🔹 Bag of Words Representation\")\n",
        "bow_vectorizer = CountVectorizer()\n",
        "X_bow = bow_vectorizer.fit_transform(reviews)\n",
        "print(bow_vectorizer.get_feature_names_out())  # Vocabulary\n",
        "print(X_bow.toarray())  # Sparse matrix converted to array\n",
        "\n",
        "# --- TF-IDF ---\n",
        "print(\"\\n🔹 TF-IDF Representation\")\n",
        "tfidf_vectorizer = TfidfVectorizer()\n",
        "X_tfidf = tfidf_vectorizer.fit_transform(reviews)\n",
        "print(tfidf_vectorizer.get_feature_names_out())  # Vocabulary\n",
        "print(X_tfidf.toarray())  # Sparse matrix converted to array\n"
      ]
    }
  ]
}