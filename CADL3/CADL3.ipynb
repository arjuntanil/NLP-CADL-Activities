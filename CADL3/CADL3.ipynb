{
  "nbformat": 4,
  "nbformat_minor": 0,
  "metadata": {
    "colab": {
      "provenance": []
    },
    "kernelspec": {
      "name": "python3",
      "display_name": "Python 3"
    },
    "language_info": {
      "name": "python"
    }
  },
  "cells": [
    {
      "cell_type": "code",
      "execution_count": null,
      "metadata": {
        "id": "8NHcM8zf_aZ7"
      },
      "outputs": [],
      "source": []
    },
    {
      "cell_type": "code",
      "source": [
        "# CADL3: Named Entity Recognition\n",
        "import spacy\n",
        "import pandas as pd\n",
        "\n",
        "# Load spaCy English model\n",
        "nlp = spacy.load(\"en_core_web_sm\")\n",
        "\n",
        "# Example dataset: news headlines\n",
        "news_text = \"\"\"\n",
        "Apple is planning to open a new campus in Bangalore next year.\n",
        "Elon Musk gave a keynote at the Tesla conference in Berlin.\n",
        "Amazon invested $4 billion in Anthropic, an AI startup.\n",
        "\"\"\"\n",
        "\n",
        "# Process text\n",
        "doc = nlp(news_text)\n",
        "\n",
        "# Display named entities\n",
        "print(\"🔹 Named Entities Found\")\n",
        "for ent in doc.ents:\n",
        "    print(f\"{ent.text:<20} --> {ent.label_}\")\n",
        "\n",
        "# Convert entities to DataFrame\n",
        "ner_data = [(ent.text, ent.label_) for ent in doc.ents]\n",
        "df = pd.DataFrame(ner_data, columns=[\"Entity\", \"Label\"])\n",
        "print(\"\\nStructured DataFrame:\\n\")\n",
        "print(df)\n"
      ],
      "metadata": {
        "colab": {
          "base_uri": "https://localhost:8080/"
        },
        "id": "5_WVUkPVFf9n",
        "outputId": "027bc7d0-6272-43cc-bba9-19d30316f758"
      },
      "execution_count": 1,
      "outputs": [
        {
          "output_type": "stream",
          "name": "stdout",
          "text": [
            "🔹 Named Entities Found\n",
            "Apple                --> ORG\n",
            "Bangalore            --> GPE\n",
            "next year            --> DATE\n",
            "Elon Musk            --> PERSON\n",
            "Tesla                --> NORP\n",
            "Berlin               --> GPE\n",
            "Amazon               --> ORG\n",
            "$4 billion           --> MONEY\n",
            "Anthropic            --> GPE\n",
            "AI                   --> GPE\n",
            "\n",
            "Structured DataFrame:\n",
            "\n",
            "       Entity   Label\n",
            "0       Apple     ORG\n",
            "1   Bangalore     GPE\n",
            "2   next year    DATE\n",
            "3   Elon Musk  PERSON\n",
            "4       Tesla    NORP\n",
            "5      Berlin     GPE\n",
            "6      Amazon     ORG\n",
            "7  $4 billion   MONEY\n",
            "8   Anthropic     GPE\n",
            "9          AI     GPE\n"
          ]
        }
      ]
    }
  ]
}