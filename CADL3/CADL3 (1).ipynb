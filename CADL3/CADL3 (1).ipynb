{
  "nbformat": 4,
  "nbformat_minor": 0,
  "metadata": {
    "colab": {
      "provenance": []
    },
    "kernelspec": {
      "name": "python3",
      "display_name": "Python 3"
    },
    "language_info": {
      "name": "python"
    }
  },
  "cells": [
    {
      "cell_type": "code",
      "execution_count": null,
      "metadata": {
        "id": "8NHcM8zf_aZ7"
      },
      "outputs": [],
      "source": []
    },
    {
      "cell_type": "code",
      "source": [
        "# CADL3: Named Entity Recognition with displacy\n",
        "import spacy\n",
        "from spacy import displacy\n",
        "import pandas as pd\n",
        "\n",
        "# Load spaCy English model\n",
        "nlp = spacy.load(\"en_core_web_sm\")\n",
        "\n",
        "# Example dataset: news headlines\n",
        "news_text = \"\"\"\n",
        "Apple is planning to open a new campus in Bangalore next year.\n",
        "Elon Musk gave a keynote at the Tesla conference in Berlin.\n",
        "Amazon invested $4 billion in Anthropic, an AI startup.\n",
        "\"\"\"\n",
        "\n",
        "# Process text\n",
        "doc = nlp(news_text)\n",
        "\n",
        "# ---- 1. Display Named Entities in Text Output ----\n",
        "print(\"🔹 Named Entities Found\")\n",
        "for ent in doc.ents:\n",
        "    print(f\"{ent.text:<20} --> {ent.label_}\")\n",
        "\n",
        "# ---- 2. Convert entities to DataFrame ----\n",
        "ner_data = [(ent.text, ent.label_) for ent in doc.ents]\n",
        "df = pd.DataFrame(ner_data, columns=[\"Entity\", \"Label\"])\n",
        "\n",
        "print(\"\\nStructured DataFrame:\\n\")\n",
        "print(df)\n",
        "\n",
        "# ---- 3. Visualize Named Entities using displacy ----\n",
        "# 'style=\"ent\"' is used to highlight entities\n",
        "print(\"\\n🔹 Visualizing Named Entities...\\n\")\n",
        "displacy.render(doc, style=\"ent\", jupyter=True)\n"
      ],
      "metadata": {
        "colab": {
          "base_uri": "https://localhost:8080/",
          "height": 643
        },
        "id": "5_WVUkPVFf9n",
        "outputId": "879a8f1c-cd2b-464b-b4a0-a0350d5dd60a"
      },
      "execution_count": 1,
      "outputs": [
        {
          "output_type": "stream",
          "name": "stdout",
          "text": [
            "🔹 Named Entities Found\n",
            "Apple                --> ORG\n",
            "Bangalore            --> GPE\n",
            "next year            --> DATE\n",
            "Elon Musk            --> PERSON\n",
            "Tesla                --> NORP\n",
            "Berlin               --> GPE\n",
            "Amazon               --> ORG\n",
            "$4 billion           --> MONEY\n",
            "Anthropic            --> GPE\n",
            "AI                   --> GPE\n",
            "\n",
            "Structured DataFrame:\n",
            "\n",
            "       Entity   Label\n",
            "0       Apple     ORG\n",
            "1   Bangalore     GPE\n",
            "2   next year    DATE\n",
            "3   Elon Musk  PERSON\n",
            "4       Tesla    NORP\n",
            "5      Berlin     GPE\n",
            "6      Amazon     ORG\n",
            "7  $4 billion   MONEY\n",
            "8   Anthropic     GPE\n",
            "9          AI     GPE\n",
            "\n",
            "🔹 Visualizing Named Entities...\n",
            "\n"
          ]
        },
        {
          "output_type": "display_data",
          "data": {
            "text/plain": [
              "<IPython.core.display.HTML object>"
            ],
            "text/html": [
              "<span class=\"tex2jax_ignore\"><div class=\"entities\" style=\"line-height: 2.5; direction: ltr\"><br>\n",
              "<mark class=\"entity\" style=\"background: #7aecec; padding: 0.45em 0.6em; margin: 0 0.25em; line-height: 1; border-radius: 0.35em;\">\n",
              "    Apple\n",
              "    <span style=\"font-size: 0.8em; font-weight: bold; line-height: 1; border-radius: 0.35em; vertical-align: middle; margin-left: 0.5rem\">ORG</span>\n",
              "</mark>\n",
              " is planning to open a new campus in \n",
              "<mark class=\"entity\" style=\"background: #feca74; padding: 0.45em 0.6em; margin: 0 0.25em; line-height: 1; border-radius: 0.35em;\">\n",
              "    Bangalore\n",
              "    <span style=\"font-size: 0.8em; font-weight: bold; line-height: 1; border-radius: 0.35em; vertical-align: middle; margin-left: 0.5rem\">GPE</span>\n",
              "</mark>\n",
              " \n",
              "<mark class=\"entity\" style=\"background: #bfe1d9; padding: 0.45em 0.6em; margin: 0 0.25em; line-height: 1; border-radius: 0.35em;\">\n",
              "    next year\n",
              "    <span style=\"font-size: 0.8em; font-weight: bold; line-height: 1; border-radius: 0.35em; vertical-align: middle; margin-left: 0.5rem\">DATE</span>\n",
              "</mark>\n",
              ".<br>\n",
              "<mark class=\"entity\" style=\"background: #aa9cfc; padding: 0.45em 0.6em; margin: 0 0.25em; line-height: 1; border-radius: 0.35em;\">\n",
              "    Elon Musk\n",
              "    <span style=\"font-size: 0.8em; font-weight: bold; line-height: 1; border-radius: 0.35em; vertical-align: middle; margin-left: 0.5rem\">PERSON</span>\n",
              "</mark>\n",
              " gave a keynote at the \n",
              "<mark class=\"entity\" style=\"background: #c887fb; padding: 0.45em 0.6em; margin: 0 0.25em; line-height: 1; border-radius: 0.35em;\">\n",
              "    Tesla\n",
              "    <span style=\"font-size: 0.8em; font-weight: bold; line-height: 1; border-radius: 0.35em; vertical-align: middle; margin-left: 0.5rem\">NORP</span>\n",
              "</mark>\n",
              " conference in \n",
              "<mark class=\"entity\" style=\"background: #feca74; padding: 0.45em 0.6em; margin: 0 0.25em; line-height: 1; border-radius: 0.35em;\">\n",
              "    Berlin\n",
              "    <span style=\"font-size: 0.8em; font-weight: bold; line-height: 1; border-radius: 0.35em; vertical-align: middle; margin-left: 0.5rem\">GPE</span>\n",
              "</mark>\n",
              ".<br>\n",
              "<mark class=\"entity\" style=\"background: #7aecec; padding: 0.45em 0.6em; margin: 0 0.25em; line-height: 1; border-radius: 0.35em;\">\n",
              "    Amazon\n",
              "    <span style=\"font-size: 0.8em; font-weight: bold; line-height: 1; border-radius: 0.35em; vertical-align: middle; margin-left: 0.5rem\">ORG</span>\n",
              "</mark>\n",
              " invested \n",
              "<mark class=\"entity\" style=\"background: #e4e7d2; padding: 0.45em 0.6em; margin: 0 0.25em; line-height: 1; border-radius: 0.35em;\">\n",
              "    $4 billion\n",
              "    <span style=\"font-size: 0.8em; font-weight: bold; line-height: 1; border-radius: 0.35em; vertical-align: middle; margin-left: 0.5rem\">MONEY</span>\n",
              "</mark>\n",
              " in \n",
              "<mark class=\"entity\" style=\"background: #feca74; padding: 0.45em 0.6em; margin: 0 0.25em; line-height: 1; border-radius: 0.35em;\">\n",
              "    Anthropic\n",
              "    <span style=\"font-size: 0.8em; font-weight: bold; line-height: 1; border-radius: 0.35em; vertical-align: middle; margin-left: 0.5rem\">GPE</span>\n",
              "</mark>\n",
              ", an \n",
              "<mark class=\"entity\" style=\"background: #feca74; padding: 0.45em 0.6em; margin: 0 0.25em; line-height: 1; border-radius: 0.35em;\">\n",
              "    AI\n",
              "    <span style=\"font-size: 0.8em; font-weight: bold; line-height: 1; border-radius: 0.35em; vertical-align: middle; margin-left: 0.5rem\">GPE</span>\n",
              "</mark>\n",
              " startup.<br></div></span>"
            ]
          },
          "metadata": {}
        }
      ]
    }
  ]
}